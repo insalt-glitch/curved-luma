{
 "cells": [
  {
   "cell_type": "code",
   "execution_count": null,
   "metadata": {},
   "outputs": [],
   "source": [
    "import numpy as np\n",
    "from scipy import stats\n",
    "import matplotlib.pyplot as plt"
   ]
  },
  {
   "cell_type": "code",
   "execution_count": null,
   "metadata": {},
   "outputs": [],
   "source": [
    "dataset = np.loadtxt(\"6.LOG\", delimiter=\";\", skiprows=1).T\n",
    "gps_speed = dataset[0, np.nonzero(dataset[0])]\n",
    "acceleration = dataset[1:4]\n",
    "rotation_velocity = dataset[4:7]\n",
    "magnetic_field = dataset[7:10]\n",
    "for arr, name  in zip([gps_speed, acceleration, rotation_velocity, magnetic_field], [\"Speed\", \"Acceleration\", \"Rotation velocity\", \"Magnetic field\"]):\n",
    "    print(f\"\\n------ {name} ------\")\n",
    "    mean = np.mean(arr, axis=1).squeeze()\n",
    "    cov = np.cov(arr).squeeze()\n",
    "    std = np.std(arr, axis=1).squeeze()\n",
    "    print(f\"Mean -> {mean}+-{std / arr.shape[1]}\")\n",
    "    print(f\"Covariance ->\\n{cov}\")"
   ]
  },
  {
   "cell_type": "code",
   "execution_count": null,
   "metadata": {},
   "outputs": [],
   "source": [
    "for d in dataset:\n",
    "    t = np.arange(d.size) / 10\n",
    "    i_time = t < 400\n",
    "    plt.plot(t[i_time], d[i_time])\n",
    "    plt.show()\n"
   ]
  },
  {
   "cell_type": "code",
   "execution_count": null,
   "metadata": {},
   "outputs": [],
   "source": [
    "fig = plt.figure(figsize=(5,5))\n",
    "ax = plt.gca()\n",
    "(osm, osr), (slope, intercept, r) = stats.probplot(a[0], fit=True)\n",
    "plt.scatter(osm, osr, 20, marker=\"v\", alpha=0.4)\n",
    "plt.plot(osm, slope * osm + intercept, color=\"red\", ls=\"--\")\n",
    "plt.xlabel(\"Theoretical quantiles\")\n",
    "plt.ylabel(\"Ordered values ($m/s^2$)\")\n",
    "plt.show()"
   ]
  }
 ],
 "metadata": {
  "kernelspec": {
   "display_name": "Python 3",
   "language": "python",
   "name": "python3"
  },
  "language_info": {
   "codemirror_mode": {
    "name": "ipython",
    "version": 3
   },
   "file_extension": ".py",
   "mimetype": "text/x-python",
   "name": "python",
   "nbconvert_exporter": "python",
   "pygments_lexer": "ipython3",
   "version": "3.10.0"
  }
 },
 "nbformat": 4,
 "nbformat_minor": 2
}
