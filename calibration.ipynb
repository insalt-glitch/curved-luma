{
 "cells": [
  {
   "cell_type": "code",
   "execution_count": null,
   "metadata": {},
   "outputs": [],
   "source": [
    "import numpy as np\n",
    "from scipy import stats\n",
    "import matplotlib.pyplot as plt"
   ]
  },
  {
   "cell_type": "code",
   "execution_count": null,
   "metadata": {},
   "outputs": [],
   "source": [
    "dataset = np.loadtxt(\"6.LOG\", delimiter=\";\", skiprows=1).T\n",
    "gps_speed = dataset[0, np.nonzero(dataset[0])]\n",
    "acceleration = dataset[1:4]\n",
    "rotation_velocity = dataset[4:7]\n",
    "magnetic_field = dataset[7:10]\n",
    "sensor_names = [\"Speed\", \"Acceleration\", \"Angular velocity\", \"Magnetic field\"]\n",
    "for arr, name  in zip([gps_speed, acceleration, rotation_velocity, magnetic_field], sensor_names):\n",
    "    print(f\"\\n------ {name} ------\")\n",
    "    mean = np.mean(arr, axis=1).squeeze()\n",
    "    cov = np.cov(arr).squeeze()\n",
    "    std = np.std(arr, axis=1).squeeze()\n",
    "    print(f\"Mean -> {mean}+-{std / arr.shape[1]}\")\n",
    "    print(f\"Covariance ->\\n{cov}\")"
   ]
  },
  {
   "cell_type": "code",
   "execution_count": null,
   "metadata": {},
   "outputs": [],
   "source": [
    "units = [\"m/s^2\", \"rad/s\", \"\\mu T\"]\n",
    "symbol = [\"a\", \"\\omega\", \"m\"]\n",
    "axes = [\"x\", \"y\", \"z\"]\n",
    "for i, d in enumerate(dataset[1:]):\n",
    "    plt.style.use(\"plot_style.mplstyle\")\n",
    "    t = np.arange(d.size) / 10\n",
    "    i_time = t < 400\n",
    "    i_sensor = i // 3\n",
    "    i_axis = i % 3\n",
    "    plt.figure(figsize=(5,4))\n",
    "    plt.plot(t[i_time], d[i_time], ls=\"\", marker=\"o\", alpha=0.4, label=f\"Measurements ${symbol[i_sensor]}_{axes[i_axis]}(t)$\", rasterized=True)\n",
    "    plt.axhline(np.mean(d[i_time]), color=\"black\", ls=\"--\", label=f\"Mean $\\mu=\\langle {symbol[i_sensor]}_{axes[i_axis]}\\\\rangle_t$\")\n",
    "    plt.xlabel(\"Time (s)\")\n",
    "    plt.ylabel(f\"{sensor_names[1:][i_sensor]} ${symbol[i_sensor]}_{axes[i_axis]}$ (${units[i_sensor]}$)\")\n",
    "    plt.xlim(0, 400)\n",
    "    plt.legend()\n",
    "    plt.savefig(f\"figures/calbration_timeseries_{sensor_names[1:][i_sensor]}_{axes[i_axis]}.pdf\", dpi=200, bbox_inches=\"tight\")\n",
    "\n",
    "    fig = plt.figure(figsize=(5,5))\n",
    "    ax = plt.gca()\n",
    "    (osm, osr), (slope, intercept, r) = stats.probplot(d[i_time], fit=True)\n",
    "    plt.plot(osm, osr, ls=\"\", marker=\"o\", alpha=0.2, label=\"Experiment quantiles\", rasterized=True)\n",
    "    plt.plot(osm, slope * osm + intercept, ls=\"--\", color=\"black\", label=\"Ref. normal $\\mathcal{N}(\\mu,\\sigma^2)$\")\n",
    "    plt.xlabel(\"Theoretical quantiles\")\n",
    "    plt.ylabel(f\"{sensor_names[1:][i_sensor]} ${symbol[i_sensor]}_{axes[i_axis]}$ (${units[i_sensor]}$)\")\n",
    "    plt.legend()\n",
    "    plt.savefig(f\"figures/calbration_normprob_{sensor_names[1:][i_sensor]}_{axes[i_axis]}.pdf\", dpi=200, bbox_inches=\"tight\")"
   ]
  }
 ],
 "metadata": {
  "kernelspec": {
   "display_name": "Python 3",
   "language": "python",
   "name": "python3"
  },
  "language_info": {
   "codemirror_mode": {
    "name": "ipython",
    "version": 3
   },
   "file_extension": ".py",
   "mimetype": "text/x-python",
   "name": "python",
   "nbconvert_exporter": "python",
   "pygments_lexer": "ipython3",
   "version": "3.10.0"
  }
 },
 "nbformat": 4,
 "nbformat_minor": 2
}
